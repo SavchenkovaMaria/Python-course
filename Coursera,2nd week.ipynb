{
 "cells": [
  {
   "cell_type": "code",
   "execution_count": 2,
   "metadata": {},
   "outputs": [
    {
     "name": "stdout",
     "output_type": "stream",
     "text": [
      "12\n",
      "True\n"
     ]
    }
   ],
   "source": [
    "# проверка на чётность и нечёность\n",
    "n = int(input())\n",
    "ll = n % 2 == 0\n",
    "print (ll)"
   ]
  },
  {
   "cell_type": "code",
   "execution_count": 5,
   "metadata": {},
   "outputs": [
    {
     "name": "stdout",
     "output_type": "stream",
     "text": [
      "1\n",
      "2\n",
      "-1\n",
      "5\n",
      "True\n"
     ]
    }
   ],
   "source": [
    "# пересечение отрезков\n",
    "start1 = int(input())\n",
    "finish1 = int(input())\n",
    "start2 = int(input())\n",
    "finish2 = int(input())\n",
    "isS1in2 = start2 <= start1 <= finish2\n",
    "isF1in2 = start2 <= finish1 <= finish2\n",
    "isF2in1 = start1 <= start2 <= finish1\n",
    "isF2in1 = start1 <= finish2 <= finish1\n",
    "answer = isS1in2 or isF1in2 or isF2in1 or isF2in1\n",
    "print (answer)"
   ]
  },
  {
   "cell_type": "code",
   "execution_count": 7,
   "metadata": {},
   "outputs": [
    {
     "name": "stdout",
     "output_type": "stream",
     "text": [
      "1\n",
      "3\n",
      "2\n",
      "4\n",
      "True\n"
     ]
    }
   ],
   "source": [
    "# пересечение отрезков 2 способ\n",
    "start1 = int(input())\n",
    "finish1 = int(input())\n",
    "start2 = int(input())\n",
    "finish2 = int(input())\n",
    "answer = start1 <= finish2 or start2 <= finish1\n",
    "print (answer)"
   ]
  },
  {
   "cell_type": "code",
   "execution_count": 9,
   "metadata": {},
   "outputs": [
    {
     "name": "stdout",
     "output_type": "stream",
     "text": [
      "0\n",
      "0\n"
     ]
    }
   ],
   "source": [
    "# посчитать модуль числа\n",
    "x = int(input())\n",
    "if x < 0:\n",
    "    x = -x\n",
    "print (x)"
   ]
  },
  {
   "cell_type": "code",
   "execution_count": 12,
   "metadata": {},
   "outputs": [
    {
     "name": "stdout",
     "output_type": "stream",
     "text": [
      "-10\n",
      "10\n"
     ]
    }
   ],
   "source": [
    "# посчитать модуль числа\n",
    "x = int(input())\n",
    "if x >= 0:\n",
    "    print (x)\n",
    "else:# if not (x >= 0)\n",
    "    print (-x)"
   ]
  },
  {
   "cell_type": "code",
   "execution_count": null,
   "metadata": {},
   "outputs": [],
   "source": [
    "# определить в какой координатной четверти находится точка\n",
    "x = int(input())\n",
    "y = int(input())\n",
    "if x > 0:\n",
    "    if y > 0:\n",
    "        print (1)\n",
    "    else:\n",
    "        print (4)\n",
    "else:\n",
    "    if y > 0:\n",
    "        print (2)\n",
    "    else:\n",
    "        print (3)    "
   ]
  },
  {
   "cell_type": "code",
   "execution_count": 19,
   "metadata": {},
   "outputs": [
    {
     "name": "stdout",
     "output_type": "stream",
     "text": [
      "6\n",
      "Other\n"
     ]
    }
   ],
   "source": [
    "# по введённому числу вводить его текстовое название на англ хотя бы для чисел 1, 2, 3\n",
    "x = int(input())\n",
    "if x == 1:\n",
    "    print('One')\n",
    "else:\n",
    "    if x == 2:\n",
    "        print ('Two')\n",
    "    else:\n",
    "        if x == 3:\n",
    "            print ('Three')\n",
    "        else:\n",
    "            print('Other')"
   ]
  },
  {
   "cell_type": "code",
   "execution_count": 22,
   "metadata": {},
   "outputs": [
    {
     "name": "stdout",
     "output_type": "stream",
     "text": [
      "5\n",
      "Other\n"
     ]
    }
   ],
   "source": [
    "# по введённому числу вводить его текстовое название на англ для множ-ва чисел\n",
    "x = int(input())\n",
    "if x == 1:\n",
    "    print('One')\n",
    "elif x == 2:\n",
    "    print ('Two')\n",
    "elif x == 3:\n",
    "    print ('Three')\n",
    "else:\n",
    "    print('Other')"
   ]
  },
  {
   "cell_type": "code",
   "execution_count": 29,
   "metadata": {},
   "outputs": [
    {
     "name": "stdout",
     "output_type": "stream",
     "text": [
      "6\n",
      "5\n",
      "1\n"
     ]
    }
   ],
   "source": [
    "a = int(input())\n",
    "b = int(input())\n",
    "if a > b:\n",
    "    print(1)\n",
    "elif a < b:\n",
    "    print (2)\n",
    "elif a == b:\n",
    "    print (0)"
   ]
  },
  {
   "cell_type": "code",
   "execution_count": null,
   "metadata": {},
   "outputs": [],
   "source": []
  }
 ],
 "metadata": {
  "kernelspec": {
   "display_name": "Python 3",
   "language": "python",
   "name": "python3"
  },
  "language_info": {
   "codemirror_mode": {
    "name": "ipython",
    "version": 3
   },
   "file_extension": ".py",
   "mimetype": "text/x-python",
   "name": "python",
   "nbconvert_exporter": "python",
   "pygments_lexer": "ipython3",
   "version": "3.8.3"
  }
 },
 "nbformat": 4,
 "nbformat_minor": 4
}
